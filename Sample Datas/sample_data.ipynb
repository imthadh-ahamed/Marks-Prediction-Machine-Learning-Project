{
 "cells": [
  {
   "cell_type": "code",
   "execution_count": 1,
   "metadata": {},
   "outputs": [
    {
     "name": "stdout",
     "output_type": "stream",
     "text": [
      "   Attendance  Mid Sem Marks  End Sem Marks\n",
      "0          81             58             82\n",
      "1          44             93             41\n",
      "2          90             38             45\n",
      "3          50             58             47\n",
      "4          53             86             68\n",
      "5          32             64             90\n",
      "6          51             32             68\n",
      "7          82             77             39\n",
      "8          31             39             82\n",
      "9          59             91             80\n"
     ]
    }
   ],
   "source": [
    "import pandas as pd\n",
    "import numpy as np\n",
    "\n",
    "# Set random seed for reproducibility\n",
    "np.random.seed(42)\n",
    "\n",
    "# Define the number of samples\n",
    "num_samples = 500\n",
    "\n",
    "# Generate random data within realistic ranges\n",
    "attendance = np.random.randint(30, 101, num_samples)\n",
    "mid_semester_marks = np.random.randint(20, 100, num_samples)\n",
    "end_semester_marks = np.random.randint(20, 100, num_samples)\n",
    "\n",
    "# Create a DataFrame\n",
    "data = {\n",
    "    \"Attendance\": attendance,\n",
    "    \"Mid Sem Marks\": mid_semester_marks,\n",
    "    \"End Sem Marks\": end_semester_marks,\n",
    "}\n",
    "df = pd.DataFrame(data)\n",
    "\n",
    "# Save to CSV (optional)\n",
    "df.to_csv(\"student_data.csv\", index=False)\n",
    "\n",
    "# Display the first 10 rows of the DataFrame\n",
    "print(df.head(10))"
   ]
  }
 ],
 "metadata": {
  "kernelspec": {
   "display_name": "Python 3",
   "language": "python",
   "name": "python3"
  },
  "language_info": {
   "codemirror_mode": {
    "name": "ipython",
    "version": 3
   },
   "file_extension": ".py",
   "mimetype": "text/x-python",
   "name": "python",
   "nbconvert_exporter": "python",
   "pygments_lexer": "ipython3",
   "version": "3.12.2"
  }
 },
 "nbformat": 4,
 "nbformat_minor": 2
}
